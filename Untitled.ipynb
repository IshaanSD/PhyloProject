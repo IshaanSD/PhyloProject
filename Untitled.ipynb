{
 "cells": [
  {
   "cell_type": "code",
   "execution_count": 10,
   "metadata": {},
   "outputs": [],
   "source": [
    "import pandas as pd\n",
    "\n",
    "import numpy as np"
   ]
  },
  {
   "cell_type": "code",
   "execution_count": 11,
   "metadata": {},
   "outputs": [],
   "source": [
    "acc_pan_alpha = pd.read_csv(\"accessions.csv\")"
   ]
  },
  {
   "cell_type": "code",
   "execution_count": 12,
   "metadata": {},
   "outputs": [
    {
     "data": {
      "text/plain": [
       "Index(['Accession', 'Pangolin'], dtype='object')"
      ]
     },
     "execution_count": 12,
     "metadata": {},
     "output_type": "execute_result"
    }
   ],
   "source": [
    "acc_pan_alpha.columns"
   ]
  },
  {
   "cell_type": "code",
   "execution_count": 13,
   "metadata": {},
   "outputs": [
    {
     "data": {
      "text/plain": [
       "array(['B.1.1.7'], dtype=object)"
      ]
     },
     "execution_count": 13,
     "metadata": {},
     "output_type": "execute_result"
    }
   ],
   "source": [
    "acc_pan_alpha[\"Pangolin\"].unique()"
   ]
  },
  {
   "cell_type": "code",
   "execution_count": 15,
   "metadata": {},
   "outputs": [],
   "source": [
    "acc_pan_gamma=pd.read_csv(\"Gamma_P.1.csv\")"
   ]
  },
  {
   "cell_type": "code",
   "execution_count": 16,
   "metadata": {},
   "outputs": [
    {
     "data": {
      "text/html": [
       "<div>\n",
       "<style scoped>\n",
       "    .dataframe tbody tr th:only-of-type {\n",
       "        vertical-align: middle;\n",
       "    }\n",
       "\n",
       "    .dataframe tbody tr th {\n",
       "        vertical-align: top;\n",
       "    }\n",
       "\n",
       "    .dataframe thead th {\n",
       "        text-align: right;\n",
       "    }\n",
       "</style>\n",
       "<table border=\"1\" class=\"dataframe\">\n",
       "  <thead>\n",
       "    <tr style=\"text-align: right;\">\n",
       "      <th></th>\n",
       "      <th>Accession</th>\n",
       "      <th>Pangolin</th>\n",
       "    </tr>\n",
       "  </thead>\n",
       "  <tbody>\n",
       "    <tr>\n",
       "      <th>0</th>\n",
       "      <td>MW988204</td>\n",
       "      <td>P.1</td>\n",
       "    </tr>\n",
       "    <tr>\n",
       "      <th>1</th>\n",
       "      <td>MZ376178</td>\n",
       "      <td>P.1</td>\n",
       "    </tr>\n",
       "    <tr>\n",
       "      <th>2</th>\n",
       "      <td>MZ317192</td>\n",
       "      <td>P.1</td>\n",
       "    </tr>\n",
       "    <tr>\n",
       "      <th>3</th>\n",
       "      <td>MZ192710</td>\n",
       "      <td>P.1</td>\n",
       "    </tr>\n",
       "    <tr>\n",
       "      <th>4</th>\n",
       "      <td>MZ167833</td>\n",
       "      <td>P.1</td>\n",
       "    </tr>\n",
       "    <tr>\n",
       "      <th>...</th>\n",
       "      <td>...</td>\n",
       "      <td>...</td>\n",
       "    </tr>\n",
       "    <tr>\n",
       "      <th>5466</th>\n",
       "      <td>MZ397166</td>\n",
       "      <td>P.1</td>\n",
       "    </tr>\n",
       "    <tr>\n",
       "      <th>5467</th>\n",
       "      <td>MZ397167</td>\n",
       "      <td>P.1</td>\n",
       "    </tr>\n",
       "    <tr>\n",
       "      <th>5468</th>\n",
       "      <td>MZ169910</td>\n",
       "      <td>P.1</td>\n",
       "    </tr>\n",
       "    <tr>\n",
       "      <th>5469</th>\n",
       "      <td>MZ169911</td>\n",
       "      <td>P.1</td>\n",
       "    </tr>\n",
       "    <tr>\n",
       "      <th>5470</th>\n",
       "      <td>MZ020420</td>\n",
       "      <td>P.1</td>\n",
       "    </tr>\n",
       "  </tbody>\n",
       "</table>\n",
       "<p>5471 rows × 2 columns</p>\n",
       "</div>"
      ],
      "text/plain": [
       "     Accession Pangolin\n",
       "0     MW988204      P.1\n",
       "1     MZ376178      P.1\n",
       "2     MZ317192      P.1\n",
       "3     MZ192710      P.1\n",
       "4     MZ167833      P.1\n",
       "...        ...      ...\n",
       "5466  MZ397166      P.1\n",
       "5467  MZ397167      P.1\n",
       "5468  MZ169910      P.1\n",
       "5469  MZ169911      P.1\n",
       "5470  MZ020420      P.1\n",
       "\n",
       "[5471 rows x 2 columns]"
      ]
     },
     "execution_count": 16,
     "metadata": {},
     "output_type": "execute_result"
    }
   ],
   "source": [
    "acc_pan_gamma"
   ]
  },
  {
   "cell_type": "code",
   "execution_count": 4,
   "metadata": {},
   "outputs": [],
   "source": [
    "alpha = pd.read_csv(\"alphavariant.csv\")"
   ]
  },
  {
   "cell_type": "code",
   "execution_count": 16,
   "metadata": {},
   "outputs": [
    {
     "data": {
      "text/html": [
       "<div>\n",
       "<style scoped>\n",
       "    .dataframe tbody tr th:only-of-type {\n",
       "        vertical-align: middle;\n",
       "    }\n",
       "\n",
       "    .dataframe tbody tr th {\n",
       "        vertical-align: top;\n",
       "    }\n",
       "\n",
       "    .dataframe thead th {\n",
       "        text-align: right;\n",
       "    }\n",
       "</style>\n",
       "<table border=\"1\" class=\"dataframe\">\n",
       "  <thead>\n",
       "    <tr style=\"text-align: right;\">\n",
       "      <th></th>\n",
       "      <th>Accession</th>\n",
       "      <th>Pangolin</th>\n",
       "      <th>Geo_Location</th>\n",
       "      <th>Collection_Date</th>\n",
       "      <th>country</th>\n",
       "    </tr>\n",
       "  </thead>\n",
       "  <tbody>\n",
       "    <tr>\n",
       "      <th>0</th>\n",
       "      <td>MZ497557</td>\n",
       "      <td>B.1.1.7</td>\n",
       "      <td>USA: West Virginia</td>\n",
       "      <td>2021-03-15</td>\n",
       "      <td>USA</td>\n",
       "    </tr>\n",
       "    <tr>\n",
       "      <th>1</th>\n",
       "      <td>MZ497558</td>\n",
       "      <td>B.1.1.7</td>\n",
       "      <td>USA: West Virginia</td>\n",
       "      <td>2021-03-15</td>\n",
       "      <td>USA</td>\n",
       "    </tr>\n",
       "    <tr>\n",
       "      <th>2</th>\n",
       "      <td>MZ497560</td>\n",
       "      <td>B.1.1.7</td>\n",
       "      <td>USA: West Virginia</td>\n",
       "      <td>2021-03-15</td>\n",
       "      <td>USA</td>\n",
       "    </tr>\n",
       "    <tr>\n",
       "      <th>3</th>\n",
       "      <td>MZ497561</td>\n",
       "      <td>B.1.1.7</td>\n",
       "      <td>USA: West Virginia</td>\n",
       "      <td>2021-03-15</td>\n",
       "      <td>USA</td>\n",
       "    </tr>\n",
       "    <tr>\n",
       "      <th>4</th>\n",
       "      <td>MZ497562</td>\n",
       "      <td>B.1.1.7</td>\n",
       "      <td>USA: West Virginia</td>\n",
       "      <td>2021-03-15</td>\n",
       "      <td>USA</td>\n",
       "    </tr>\n",
       "    <tr>\n",
       "      <th>...</th>\n",
       "      <td>...</td>\n",
       "      <td>...</td>\n",
       "      <td>...</td>\n",
       "      <td>...</td>\n",
       "      <td>...</td>\n",
       "    </tr>\n",
       "    <tr>\n",
       "      <th>87585</th>\n",
       "      <td>MW430966</td>\n",
       "      <td>B.1.1.7</td>\n",
       "      <td>USA: California</td>\n",
       "      <td>2020-12-20</td>\n",
       "      <td>USA</td>\n",
       "    </tr>\n",
       "    <tr>\n",
       "      <th>87586</th>\n",
       "      <td>MW430974</td>\n",
       "      <td>B.1.1.7</td>\n",
       "      <td>USA: Florida</td>\n",
       "      <td>2020-12-19</td>\n",
       "      <td>USA</td>\n",
       "    </tr>\n",
       "    <tr>\n",
       "      <th>87587</th>\n",
       "      <td>MW423686</td>\n",
       "      <td>B.1.1.7</td>\n",
       "      <td>Italy: Abruzzo</td>\n",
       "      <td>2020-12-27</td>\n",
       "      <td>Italy</td>\n",
       "    </tr>\n",
       "    <tr>\n",
       "      <th>87588</th>\n",
       "      <td>MW422255</td>\n",
       "      <td>B.1.1.7</td>\n",
       "      <td>USA: San Diego, California</td>\n",
       "      <td>2020-12-29</td>\n",
       "      <td>USA</td>\n",
       "    </tr>\n",
       "    <tr>\n",
       "      <th>87589</th>\n",
       "      <td>MW422256</td>\n",
       "      <td>B.1.1.7</td>\n",
       "      <td>USA</td>\n",
       "      <td>2020-12-24</td>\n",
       "      <td>USA</td>\n",
       "    </tr>\n",
       "  </tbody>\n",
       "</table>\n",
       "<p>87590 rows × 5 columns</p>\n",
       "</div>"
      ],
      "text/plain": [
       "      Accession Pangolin                Geo_Location Collection_Date country\n",
       "0      MZ497557  B.1.1.7          USA: West Virginia      2021-03-15     USA\n",
       "1      MZ497558  B.1.1.7          USA: West Virginia      2021-03-15     USA\n",
       "2      MZ497560  B.1.1.7          USA: West Virginia      2021-03-15     USA\n",
       "3      MZ497561  B.1.1.7          USA: West Virginia      2021-03-15     USA\n",
       "4      MZ497562  B.1.1.7          USA: West Virginia      2021-03-15     USA\n",
       "...         ...      ...                         ...             ...     ...\n",
       "87585  MW430966  B.1.1.7             USA: California      2020-12-20     USA\n",
       "87586  MW430974  B.1.1.7                USA: Florida      2020-12-19     USA\n",
       "87587  MW423686  B.1.1.7              Italy: Abruzzo      2020-12-27   Italy\n",
       "87588  MW422255  B.1.1.7  USA: San Diego, California      2020-12-29     USA\n",
       "87589  MW422256  B.1.1.7                         USA      2020-12-24     USA\n",
       "\n",
       "[87590 rows x 5 columns]"
      ]
     },
     "execution_count": 16,
     "metadata": {},
     "output_type": "execute_result"
    }
   ],
   "source": [
    "alpha"
   ]
  },
  {
   "cell_type": "code",
   "execution_count": 15,
   "metadata": {},
   "outputs": [],
   "source": [
    "alpha[\"country\"]=[location[0] for location in alpha[\"Geo_Location\"].str.split(':')]"
   ]
  },
  {
   "cell_type": "code",
   "execution_count": 19,
   "metadata": {},
   "outputs": [
    {
     "data": {
      "text/plain": [
       "country\n",
       "USA                   86999\n",
       "Ghana                   116\n",
       "Spain                    72\n",
       "Austria                  71\n",
       "India                    53\n",
       "Iraq                     48\n",
       "Bahrain                  43\n",
       "Djibouti                 28\n",
       "West Bank                24\n",
       "Bangladesh               23\n",
       "Hong Kong                18\n",
       "Pakistan                 17\n",
       "Japan                    17\n",
       "Philippines              12\n",
       "Egypt                    11\n",
       "Italy                     7\n",
       "Taiwan                    5\n",
       "Poland                    4\n",
       "Togo                      4\n",
       "Somalia                   2\n",
       "Thailand                  2\n",
       "Libya                     2\n",
       "Myanmar                   2\n",
       "Saudi Arabia              1\n",
       "United Kingdom            1\n",
       "Germany                   1\n",
       "Finland                   1\n",
       "Dominican Republic        1\n",
       "Tunisia                   1\n",
       "Cambodia                  1\n",
       "Peru                      1\n",
       "Turkey                    1\n",
       "Morocco                   1\n",
       "dtype: int64"
      ]
     },
     "execution_count": 19,
     "metadata": {},
     "output_type": "execute_result"
    }
   ],
   "source": [
    "alpha.value_counts('country')"
   ]
  },
  {
   "cell_type": "code",
   "execution_count": 20,
   "metadata": {},
   "outputs": [],
   "source": [
    "def country_counts(variant):\n",
    "    varDF = pd.read_csv(f\"{variant}variant.csv\")\n",
    "    varDF[\"country\"]=[location[0] for location in varDF[\"Geo_Location\"].str.split(':')]\n",
    "    display(varDF.value_counts('country'))"
   ]
  },
  {
   "cell_type": "code",
   "execution_count": 68,
   "metadata": {},
   "outputs": [],
   "source": [
    "def country_time_counts(variant):\n",
    "    varDF = pd.read_csv(f\"{variant}variant.csv\")\n",
    "    varDF[\"country\"]=[location[0] for location in varDF[\"Geo_Location\"].str.split(':')] \n",
    "    varDF[\"time\"] = [str(date)[:7].replace('-','/') for date in varDF[\"Collection_Date\"]]\n",
    "    \n",
    "    display(varDF.value_counts(['country','time']))\n",
    "    display(varDF.groupby(['country','time']).agg(lambda x: x.iloc[np.random.choice(range(len(x)))])[\"Accession\"])\n",
    "    subsample_acc_file = open(f'{variant}_sub_accesions.txt','w')\n",
    "    for acc in varDF.groupby(['country','time']).agg(lambda x: x.iloc[np.random.choice(range(len(x)))])[\"Accession\"]:\n",
    "        subsample_acc_file.write(acc+'\\n')"
   ]
  },
  {
   "cell_type": "code",
   "execution_count": 70,
   "metadata": {},
   "outputs": [
    {
     "name": "stdout",
     "output_type": "stream",
     "text": [
      "alpha\n"
     ]
    },
    {
     "data": {
      "text/plain": [
       "country       time   \n",
       "USA           2021/04    41361\n",
       "              2021/05    22298\n",
       "              2021/03    18015\n",
       "              2021/02     2771\n",
       "              2021/06     2262\n",
       "                         ...  \n",
       "Italy         2021/03        1\n",
       "Morocco       2021/01        1\n",
       "Peru          2020/12        1\n",
       "Saudi Arabia  2021/04        1\n",
       "Iraq          2021/01        1\n",
       "Length: 84, dtype: int64"
      ]
     },
     "metadata": {},
     "output_type": "display_data"
    },
    {
     "data": {
      "text/plain": [
       "country         time   \n",
       "Austria         2021/02    MW909565\n",
       "                2021/03    MW913382\n",
       "                2021/04    MW913369\n",
       "Bahrain         2021/01    MW704354\n",
       "                2021/02    MW704287\n",
       "                             ...   \n",
       "USA             2021/05    MZ498398\n",
       "                2021/06    MZ432970\n",
       "United Kingdom  2020/11    MZ376737\n",
       "West Bank       2021/02    MW858246\n",
       "                2021/04    MZ207873\n",
       "Name: Accession, Length: 84, dtype: object"
      ]
     },
     "metadata": {},
     "output_type": "display_data"
    },
    {
     "name": "stdout",
     "output_type": "stream",
     "text": [
      "beta\n"
     ]
    },
    {
     "data": {
      "text/plain": [
       "country         time   \n",
       "USA             2021/04    134\n",
       "                2021/03     83\n",
       "                2021/05     70\n",
       "United Kingdom  2021/01     45\n",
       "USA             2021/02     32\n",
       "United Kingdom  2021/02     27\n",
       "                2020/12     26\n",
       "Djibouti        2021/03     10\n",
       "United Kingdom  2020         9\n",
       "Djibouti        2021/04      8\n",
       "India           2021/02      5\n",
       "Ghana           2021/01      4\n",
       "Hong Kong       2021/04      4\n",
       "India           2021/03      3\n",
       "United Kingdom  2021/03      3\n",
       "South Africa    2020/11      3\n",
       "Germany         2021/01      2\n",
       "Hong Kong       2021/05      2\n",
       "United Kingdom  nan          2\n",
       "Bangladesh      2021/05      2\n",
       "Philippines     2021/03      2\n",
       "                2021/04      2\n",
       "USA             2021/01      2\n",
       "Italy           2021/03      1\n",
       "Pakistan        2021/04      1\n",
       "United Kingdom  2021/04      1\n",
       "Hong Kong       2021/02      1\n",
       "Taiwan          2021/03      1\n",
       "Germany         2021/02      1\n",
       "Tunisia         2021/04      1\n",
       "France          2021/01      1\n",
       "USA             2021/06      1\n",
       "Saudi Arabia    2021/04      1\n",
       "dtype: int64"
      ]
     },
     "metadata": {},
     "output_type": "display_data"
    },
    {
     "data": {
      "text/plain": [
       "country         time   \n",
       "Bangladesh      2021/05    MZ401461\n",
       "Djibouti        2021/03    MZ394616\n",
       "                2021/04    MZ394580\n",
       "France          2021/01    MW580244\n",
       "Germany         2021/01    MW822592\n",
       "                2021/02    MZ433432\n",
       "Ghana           2021/01    MW598413\n",
       "Hong Kong       2021/02    MZ266525\n",
       "                2021/04    MZ266502\n",
       "                2021/05    MZ266366\n",
       "India           2021/02    MZ317908\n",
       "                2021/03    MZ314964\n",
       "Italy           2021/03    MW789246\n",
       "Pakistan        2021/04    MZ413998\n",
       "Philippines     2021/03    MZ068154\n",
       "                2021/04    MZ068161\n",
       "Saudi Arabia    2021/04    MZ215961\n",
       "South Africa    2020/11    MZ376663\n",
       "Taiwan          2021/03    MZ277392\n",
       "Tunisia         2021/04    MZ227558\n",
       "USA             2021/01    MW580574\n",
       "                2021/02    MW763128\n",
       "                2021/03    MZ004754\n",
       "                2021/04    MZ061538\n",
       "                2021/05    MZ281742\n",
       "                2021/06    MZ450533\n",
       "United Kingdom  2020       OB998534\n",
       "                2020/12    OD913780\n",
       "                2021/01    OD961744\n",
       "                2021/02    OD989241\n",
       "                2021/03    OU031749\n",
       "                2021/04    OU032444\n",
       "                nan        HG999939\n",
       "Name: Accession, dtype: object"
      ]
     },
     "metadata": {},
     "output_type": "display_data"
    },
    {
     "name": "stdout",
     "output_type": "stream",
     "text": [
      "gamma\n"
     ]
    },
    {
     "data": {
      "text/plain": [
       "country     time   \n",
       "USA         2021/04    2473\n",
       "            2021/05    2176\n",
       "            2021/03     564\n",
       "            2021/06     420\n",
       "            2021/02      25\n",
       "            2021/01       4\n",
       "Taiwan      2021/01       4\n",
       "Italy       2021/01       2\n",
       "Brazil      2021/04       2\n",
       "            2021/03       2\n",
       "            2021/02       2\n",
       "Uruguay     2021/03       1\n",
       "Peru        2021/02       1\n",
       "Brazil      2020/12       1\n",
       "Bangladesh  2021/02       1\n",
       "dtype: int64"
      ]
     },
     "metadata": {},
     "output_type": "display_data"
    },
    {
     "data": {
      "text/plain": [
       "country     time   \n",
       "Bangladesh  2021/02    MZ020420\n",
       "Brazil      2020/12    MZ264787\n",
       "            2021/02    MZ169910\n",
       "            2021/03    MZ397164\n",
       "            2021/04    MZ397166\n",
       "Italy       2021/01    MW642248\n",
       "Peru        2021/02    MW938104\n",
       "Taiwan      2021/01    MZ277386\n",
       "USA         2021/01    MW558281\n",
       "            2021/02    MW840402\n",
       "            2021/03    MW963218\n",
       "            2021/04    MZ210443\n",
       "            2021/05    MZ320911\n",
       "            2021/06    MZ412043\n",
       "Uruguay     2021/03    MW988204\n",
       "Name: Accession, dtype: object"
      ]
     },
     "metadata": {},
     "output_type": "display_data"
    },
    {
     "name": "stdout",
     "output_type": "stream",
     "text": [
      "delta\n"
     ]
    },
    {
     "data": {
      "text/plain": [
       "country         time   \n",
       "United Kingdom  2021/06    407\n",
       "USA             2021/05     78\n",
       "United Kingdom  2021/05     47\n",
       "USA             2021/06     27\n",
       "                2021/04     26\n",
       "United Kingdom  2021/04     10\n",
       "                2020         4\n",
       "USA             2021/03      4\n",
       "India           2021/04      3\n",
       "Bangladesh      2021/05      3\n",
       "United Kingdom  2020/07      1\n",
       "Myanmar         2020/05      1\n",
       "Japan           2021/04      1\n",
       "India           2021/03      1\n",
       "Bangladesh      2021/06      1\n",
       "dtype: int64"
      ]
     },
     "metadata": {},
     "output_type": "display_data"
    },
    {
     "data": {
      "text/plain": [
       "country         time   \n",
       "Bangladesh      2021/05    MZ401465\n",
       "                2021/06    MZ470855\n",
       "India           2021/03    MZ340535\n",
       "                2021/04    MZ356904\n",
       "Japan           2021/04    LC633760\n",
       "Myanmar         2020/05    MZ397171\n",
       "USA             2021/03    MW931310\n",
       "                2021/04    MZ284737\n",
       "                2021/05    MZ281111\n",
       "                2021/06    MZ465630\n",
       "United Kingdom  2020       OU347795\n",
       "                2020/07    OU348289\n",
       "                2021/04    OU348053\n",
       "                2021/05    OU348290\n",
       "                2021/06    OU347682\n",
       "Name: Accession, dtype: object"
      ]
     },
     "metadata": {},
     "output_type": "display_data"
    }
   ],
   "source": [
    "for x in ['alpha','beta','gamma','delta']:\n",
    "    print(x)\n",
    "    country_time_counts(x)"
   ]
  },
  {
   "cell_type": "code",
   "execution_count": 55,
   "metadata": {},
   "outputs": [
    {
     "data": {
      "text/html": [
       "<div>\n",
       "<style scoped>\n",
       "    .dataframe tbody tr th:only-of-type {\n",
       "        vertical-align: middle;\n",
       "    }\n",
       "\n",
       "    .dataframe tbody tr th {\n",
       "        vertical-align: top;\n",
       "    }\n",
       "\n",
       "    .dataframe thead th {\n",
       "        text-align: right;\n",
       "    }\n",
       "</style>\n",
       "<table border=\"1\" class=\"dataframe\">\n",
       "  <thead>\n",
       "    <tr style=\"text-align: right;\">\n",
       "      <th></th>\n",
       "      <th>Accession</th>\n",
       "      <th>Pangolin</th>\n",
       "      <th>Geo_Location</th>\n",
       "      <th>Collection_Date</th>\n",
       "      <th>country</th>\n",
       "    </tr>\n",
       "  </thead>\n",
       "  <tbody>\n",
       "    <tr>\n",
       "      <th>0</th>\n",
       "      <td>MZ497557</td>\n",
       "      <td>B.1.1.7</td>\n",
       "      <td>USA: West Virginia</td>\n",
       "      <td>2021-03-15</td>\n",
       "      <td>USA</td>\n",
       "    </tr>\n",
       "    <tr>\n",
       "      <th>1</th>\n",
       "      <td>MZ497558</td>\n",
       "      <td>B.1.1.7</td>\n",
       "      <td>USA: West Virginia</td>\n",
       "      <td>2021-03-15</td>\n",
       "      <td>USA</td>\n",
       "    </tr>\n",
       "    <tr>\n",
       "      <th>2</th>\n",
       "      <td>MZ497560</td>\n",
       "      <td>B.1.1.7</td>\n",
       "      <td>USA: West Virginia</td>\n",
       "      <td>2021-03-15</td>\n",
       "      <td>USA</td>\n",
       "    </tr>\n",
       "    <tr>\n",
       "      <th>3</th>\n",
       "      <td>MZ497561</td>\n",
       "      <td>B.1.1.7</td>\n",
       "      <td>USA: West Virginia</td>\n",
       "      <td>2021-03-15</td>\n",
       "      <td>USA</td>\n",
       "    </tr>\n",
       "    <tr>\n",
       "      <th>4</th>\n",
       "      <td>MZ497562</td>\n",
       "      <td>B.1.1.7</td>\n",
       "      <td>USA: West Virginia</td>\n",
       "      <td>2021-03-15</td>\n",
       "      <td>USA</td>\n",
       "    </tr>\n",
       "    <tr>\n",
       "      <th>...</th>\n",
       "      <td>...</td>\n",
       "      <td>...</td>\n",
       "      <td>...</td>\n",
       "      <td>...</td>\n",
       "      <td>...</td>\n",
       "    </tr>\n",
       "    <tr>\n",
       "      <th>87585</th>\n",
       "      <td>MW430966</td>\n",
       "      <td>B.1.1.7</td>\n",
       "      <td>USA: California</td>\n",
       "      <td>2020-12-20</td>\n",
       "      <td>USA</td>\n",
       "    </tr>\n",
       "    <tr>\n",
       "      <th>87586</th>\n",
       "      <td>MW430974</td>\n",
       "      <td>B.1.1.7</td>\n",
       "      <td>USA: Florida</td>\n",
       "      <td>2020-12-19</td>\n",
       "      <td>USA</td>\n",
       "    </tr>\n",
       "    <tr>\n",
       "      <th>87587</th>\n",
       "      <td>MW423686</td>\n",
       "      <td>B.1.1.7</td>\n",
       "      <td>Italy: Abruzzo</td>\n",
       "      <td>2020-12-27</td>\n",
       "      <td>Italy</td>\n",
       "    </tr>\n",
       "    <tr>\n",
       "      <th>87588</th>\n",
       "      <td>MW422255</td>\n",
       "      <td>B.1.1.7</td>\n",
       "      <td>USA: San Diego, California</td>\n",
       "      <td>2020-12-29</td>\n",
       "      <td>USA</td>\n",
       "    </tr>\n",
       "    <tr>\n",
       "      <th>87589</th>\n",
       "      <td>MW422256</td>\n",
       "      <td>B.1.1.7</td>\n",
       "      <td>USA</td>\n",
       "      <td>2020-12-24</td>\n",
       "      <td>USA</td>\n",
       "    </tr>\n",
       "  </tbody>\n",
       "</table>\n",
       "<p>87590 rows × 5 columns</p>\n",
       "</div>"
      ],
      "text/plain": [
       "      Accession Pangolin                Geo_Location Collection_Date country\n",
       "0      MZ497557  B.1.1.7          USA: West Virginia      2021-03-15     USA\n",
       "1      MZ497558  B.1.1.7          USA: West Virginia      2021-03-15     USA\n",
       "2      MZ497560  B.1.1.7          USA: West Virginia      2021-03-15     USA\n",
       "3      MZ497561  B.1.1.7          USA: West Virginia      2021-03-15     USA\n",
       "4      MZ497562  B.1.1.7          USA: West Virginia      2021-03-15     USA\n",
       "...         ...      ...                         ...             ...     ...\n",
       "87585  MW430966  B.1.1.7             USA: California      2020-12-20     USA\n",
       "87586  MW430974  B.1.1.7                USA: Florida      2020-12-19     USA\n",
       "87587  MW423686  B.1.1.7              Italy: Abruzzo      2020-12-27   Italy\n",
       "87588  MW422255  B.1.1.7  USA: San Diego, California      2020-12-29     USA\n",
       "87589  MW422256  B.1.1.7                         USA      2020-12-24     USA\n",
       "\n",
       "[87590 rows x 5 columns]"
      ]
     },
     "execution_count": 55,
     "metadata": {},
     "output_type": "execute_result"
    }
   ],
   "source": []
  },
  {
   "cell_type": "code",
   "execution_count": null,
   "metadata": {},
   "outputs": [],
   "source": []
  }
 ],
 "metadata": {
  "kernelspec": {
   "display_name": "Python 3",
   "language": "python",
   "name": "python3"
  },
  "language_info": {
   "codemirror_mode": {
    "name": "ipython",
    "version": 3
   },
   "file_extension": ".py",
   "mimetype": "text/x-python",
   "name": "python",
   "nbconvert_exporter": "python",
   "pygments_lexer": "ipython3",
   "version": "3.7.4"
  }
 },
 "nbformat": 4,
 "nbformat_minor": 4
}
